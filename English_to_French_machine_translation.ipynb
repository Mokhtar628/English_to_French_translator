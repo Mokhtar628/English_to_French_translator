{
  "nbformat": 4,
  "nbformat_minor": 0,
  "metadata": {
    "colab": {
      "provenance": []
    },
    "kernelspec": {
      "name": "python3",
      "display_name": "Python 3"
    },
    "language_info": {
      "name": "python"
    },
    "accelerator": "GPU",
    "gpuClass": "standard"
  },
  "cells": [
    {
      "cell_type": "markdown",
      "source": [
        "Load the dataset into array"
      ],
      "metadata": {
        "id": "qLVncmBDHwyX"
      }
    },
    {
      "cell_type": "code",
      "source": [
        "with open(\"./drive/MyDrive/entofr_dataset/en.txt\") as file:\n",
        "    en_data = [\"sos \"+line.rstrip()+\" eos\" for line in file]\n",
        "\n",
        "with open(\"./drive/MyDrive/entofr_dataset/fr.txt\") as file:\n",
        "    fr_data = [\"sos \" + line.rstrip() +\" eos\" for line in file]\n"
      ],
      "metadata": {
        "id": "3KF4LfiKCOCZ"
      },
      "execution_count": 3,
      "outputs": []
    },
    {
      "cell_type": "markdown",
      "source": [
        "Visualize some of the data"
      ],
      "metadata": {
        "id": "CtPzkxwIIuMv"
      }
    },
    {
      "cell_type": "code",
      "source": [
        "for en_sent, fr_sent in zip(en_data[:2], fr_data[:2]):\n",
        "  print(\"the original: \", en_sent)\n",
        "  print(\"the translation: \", fr_sent)"
      ],
      "metadata": {
        "colab": {
          "base_uri": "https://localhost:8080/"
        },
        "id": "mNTW14-rIq5F",
        "outputId": "c6b82d40-2504-4978-ba97-87177ee6d4b8"
      },
      "execution_count": 4,
      "outputs": [
        {
          "output_type": "stream",
          "name": "stdout",
          "text": [
            "the original:  sos new jersey is sometimes quiet during autumn , and it is snowy in april . eos\n",
            "the translation:  sos new jersey est parfois calme pendant l' automne , et il est neigeux en avril . eos\n",
            "the original:  sos the united states is usually chilly during july , and it is usually freezing in november . eos\n",
            "the translation:  sos les états-unis est généralement froid en juillet , et il gèle habituellement en novembre . eos\n"
          ]
        }
      ]
    },
    {
      "cell_type": "markdown",
      "source": [
        "calculate the mean and the size of english **vocab**"
      ],
      "metadata": {
        "id": "O2DucNtlG4-b"
      }
    },
    {
      "cell_type": "code",
      "source": [
        "import numpy as np\n",
        "\n",
        "en_sent_lengths = [len(en_sent.split(\" \")) for en_sent in en_data]\n",
        "en_mean_length = np.mean(en_sent_lengths)\n",
        "print('(English) Mean sentence length: ', en_mean_length)"
      ],
      "metadata": {
        "colab": {
          "base_uri": "https://localhost:8080/"
        },
        "id": "uum8XENy-2--",
        "outputId": "f7400877-1463-4064-9a14-32e675aa9a78"
      },
      "execution_count": 5,
      "outputs": [
        {
          "output_type": "stream",
          "name": "stdout",
          "text": [
            "(English) Mean sentence length:  15.225678224285508\n"
          ]
        }
      ]
    },
    {
      "cell_type": "code",
      "source": [
        "all_words = []\n",
        "for sent in en_data:\n",
        "  all_words.extend(sent.split(\" \"))\n",
        "en_vocab_size = len(set(all_words))\n",
        "print(\"(English) Vocabulary size: \", en_vocab_size)"
      ],
      "metadata": {
        "colab": {
          "base_uri": "https://localhost:8080/"
        },
        "id": "YptSPRF0ACtt",
        "outputId": "303b2700-c0e8-4434-82af-246946b548b9"
      },
      "execution_count": 6,
      "outputs": [
        {
          "output_type": "stream",
          "name": "stdout",
          "text": [
            "(English) Vocabulary size:  230\n"
          ]
        }
      ]
    },
    {
      "cell_type": "markdown",
      "source": [
        "built the encoder"
      ],
      "metadata": {
        "id": "zJ2xrg0IHV5S"
      }
    },
    {
      "cell_type": "code",
      "source": [
        "from tensorflow.keras.layers import Input, GRU\n",
        "from tensorflow.keras import Model\n",
        "\n",
        "en_inputs = Input(shape=(15, en_vocab_size))\n",
        "\n",
        "en_gru = GRU(128, return_state=True)\n",
        "en_out, en_state = en_gru(en_inputs)\n",
        "\n",
        "encoder = Model(inputs=en_inputs, outputs=en_state)\n",
        "\n",
        "# en_inputs = Input(shape=(15, en_vocab_size))\n",
        "# en_gru = GRU(64, return_state=True)\n",
        "# en_out, en_state = en_gru(en_inputs)\n",
        "\n",
        "# print(encoder.summary())"
      ],
      "metadata": {
        "id": "k--HG47FAUmI"
      },
      "execution_count": 7,
      "outputs": []
    },
    {
      "cell_type": "markdown",
      "source": [
        "calculate the mean and the size of french **vocab**\n"
      ],
      "metadata": {
        "id": "KEtcPO1BHe3l"
      }
    },
    {
      "cell_type": "code",
      "source": [
        "sent_lengths = [len(fr_sent.split(\" \")) for fr_sent in fr_data]\n",
        "fr_mean_length = np.mean(sent_lengths)\n",
        "print('(French) Mean sentence length: ', fr_mean_length)\n",
        "\n",
        "all_words = []\n",
        "for sent in fr_data:\n",
        "  all_words.extend(sent.split(\" \"))\n",
        "fr_vocab_size = len(set(all_words))\n",
        "print(\"(French) Vocabulary size: \", fr_vocab_size)"
      ],
      "metadata": {
        "colab": {
          "base_uri": "https://localhost:8080/"
        },
        "id": "nlegozlwDGGu",
        "outputId": "28470f99-44d4-4760-e32d-0f495ea2a048"
      },
      "execution_count": 8,
      "outputs": [
        {
          "output_type": "stream",
          "name": "stdout",
          "text": [
            "(French) Mean sentence length:  16.226730015958218\n",
            "(French) Vocabulary size:  358\n"
          ]
        }
      ]
    },
    {
      "cell_type": "markdown",
      "source": [
        "built the  decoder"
      ],
      "metadata": {
        "id": "qfKRYuJMHr4P"
      }
    },
    {
      "cell_type": "code",
      "source": [
        "from tensorflow.keras.layers import RepeatVector\n",
        "\n",
        "de_inputs = RepeatVector(15)(en_state)\n",
        "\n",
        "decoder_gru = GRU(128, return_sequences=True)\n",
        "\n",
        "gru_outputs = decoder_gru(de_inputs, initial_state=en_state)\n",
        "\n",
        "# de_inputs = Input(shape=(15-1, fr_vocab_size))\n",
        "# de_gru = GRU(64, return_sequences=True)\n",
        "# de_out = de_gru(de_inputs, initial_state=en_state)\n"
      ],
      "metadata": {
        "id": "35Jl1gEwDTAV"
      },
      "execution_count": 9,
      "outputs": []
    },
    {
      "cell_type": "code",
      "source": [
        "enc_dec = Model(inputs=en_inputs, outputs=gru_outputs) # the sequenece to seq model\n",
        "print(enc_dec.summary())"
      ],
      "metadata": {
        "colab": {
          "base_uri": "https://localhost:8080/"
        },
        "id": "KNKFzCJ7EjEP",
        "outputId": "5a14fdbc-0511-401d-cba0-2020e18cf505"
      },
      "execution_count": 10,
      "outputs": [
        {
          "output_type": "stream",
          "name": "stdout",
          "text": [
            "Model: \"model_1\"\n",
            "__________________________________________________________________________________________________\n",
            " Layer (type)                   Output Shape         Param #     Connected to                     \n",
            "==================================================================================================\n",
            " input_1 (InputLayer)           [(None, 15, 230)]    0           []                               \n",
            "                                                                                                  \n",
            " gru (GRU)                      [(None, 128),        138240      ['input_1[0][0]']                \n",
            "                                 (None, 128)]                                                     \n",
            "                                                                                                  \n",
            " repeat_vector (RepeatVector)   (None, 15, 128)      0           ['gru[0][1]']                    \n",
            "                                                                                                  \n",
            " gru_1 (GRU)                    (None, 15, 128)      99072       ['repeat_vector[0][0]',          \n",
            "                                                                  'gru[0][1]']                    \n",
            "                                                                                                  \n",
            "==================================================================================================\n",
            "Total params: 237,312\n",
            "Trainable params: 237,312\n",
            "Non-trainable params: 0\n",
            "__________________________________________________________________________________________________\n",
            "None\n"
          ]
        }
      ]
    },
    {
      "cell_type": "markdown",
      "source": [
        "built timedistributed and dense layer"
      ],
      "metadata": {
        "id": "G1IflEuWHxq7"
      }
    },
    {
      "cell_type": "code",
      "source": [
        "from tensorflow.keras.layers import Dense, TimeDistributed\n",
        "\n",
        "de_dense = Dense(fr_vocab_size, activation='softmax')\n",
        "de_dense_time = TimeDistributed(de_dense)\n",
        "de_pred = de_dense_time(gru_outputs)\n",
        "\n",
        "# de_dense = TimeDistributed(Dense(fr_vocab_size, activation='softmax'))\n",
        "# de_pred = de_dense(de_out)"
      ],
      "metadata": {
        "id": "ngP0P5vbEtj-"
      },
      "execution_count": 11,
      "outputs": []
    },
    {
      "cell_type": "markdown",
      "source": [
        "compile the full encoder decoder network"
      ],
      "metadata": {
        "id": "18uSNC-DH6vQ"
      }
    },
    {
      "cell_type": "code",
      "source": [
        "nmt = Model(inputs=en_inputs, outputs=de_pred)\n",
        "nmt.compile(optimizer='adam', loss='categorical_crossentropy', metrics=['acc'])\n",
        "# nmt_tf = Model(inputs=[en_inputs, de_inputs], outputs=de_pred)\n",
        "# nmt_tf.compile(optimizer='adam', loss=\"categorical_crossentropy\", metrics=[\"acc\"])"
      ],
      "metadata": {
        "id": "NaoeNrjJGau3"
      },
      "execution_count": 12,
      "outputs": []
    },
    {
      "cell_type": "markdown",
      "source": [
        "Tokenize the datasets"
      ],
      "metadata": {
        "id": "8V_BxsyvUEUZ"
      }
    },
    {
      "cell_type": "code",
      "source": [
        "from tensorflow.keras.preprocessing.text import Tokenizer\n",
        "\n",
        "# Define a Keras Tokenizer\n",
        "en_tok = Tokenizer(num_words=500, oov_token='UNK')\n",
        "en_tok.fit_on_texts(en_data)\n",
        "fr_tok= Tokenizer(num_words=500, oov_token='UNK')\n",
        "fr_tok.fit_on_texts(fr_data)"
      ],
      "metadata": {
        "id": "UeaSflHjTtBh"
      },
      "execution_count": 13,
      "outputs": []
    },
    {
      "cell_type": "markdown",
      "source": [
        "initialize sentances to seqs that doing padding and reversig vector\n"
      ],
      "metadata": {
        "id": "zVGHfnBhULpk"
      }
    },
    {
      "cell_type": "code",
      "source": [
        "from tensorflow.keras.preprocessing.sequence import pad_sequences\n",
        "from tensorflow.keras.utils import to_categorical\n",
        "\n",
        "def en_sents2seqs(input_type, sentences, onehot=False, pad_type='post', reverse=False):\n",
        "    encoded_text = en_tok.texts_to_sequences(sentences)\n",
        "    preproc_text = pad_sequences(encoded_text, padding=pad_type, truncating='post', maxlen=15)\n",
        "    if reverse:\n",
        "      # Reverse the text using numpy axis reversing\n",
        "      preproc_text = preproc_text[:,::-1]\n",
        "    if onehot:\n",
        "        preproc_text = to_categorical(preproc_text, num_classes=en_vocab_size)\n",
        "    return preproc_text\n",
        "\n",
        "def fr_sents2seqs(input_type, sentences, onehot=False, pad_type='post', reverse=False):\n",
        "    encoded_text = fr_tok.texts_to_sequences(sentences)\n",
        "    preproc_text = pad_sequences(encoded_text, padding=pad_type, truncating='post', maxlen=15)\n",
        "    if reverse:\n",
        "      # Reverse the text using numpy axis reversing\n",
        "      preproc_text = preproc_text[:,::-1]\n",
        "    if onehot:\n",
        "        preproc_text = to_categorical(preproc_text, num_classes=fr_vocab_size)\n",
        "    return preproc_text\n"
      ],
      "metadata": {
        "id": "-wsi1loDUUo7"
      },
      "execution_count": 14,
      "outputs": []
    },
    {
      "cell_type": "markdown",
      "source": [
        "shuffle and split the dataset"
      ],
      "metadata": {
        "id": "bDNXmxv8VZ1D"
      }
    },
    {
      "cell_type": "code",
      "source": [
        "import math\n",
        "\n",
        "train_size, valid_size = math.floor(len(en_data)*0.8), math.floor(len(en_data)*0.2)\n",
        "inds = np.arange(len(en_data))\n",
        "np.random.shuffle(inds)\n",
        "train_inds = inds[:train_size]\n",
        "valid_inds = inds[train_size:train_size+valid_size]\n",
        "\n",
        "tr_en = [en_data[ti] for ti in train_inds]\n",
        "tr_fr = [fr_data[ti] for ti in train_inds]\n",
        "v_en = [en_data[ti] for ti in valid_inds]\n",
        "v_fr = [fr_data[ti] for ti in valid_inds]\n",
        "\n",
        "print(train_size)"
      ],
      "metadata": {
        "colab": {
          "base_uri": "https://localhost:8080/"
        },
        "id": "dUoKjwrAVeDJ",
        "outputId": "85063b68-d303-49c9-eabd-463880f11fca"
      },
      "execution_count": 15,
      "outputs": [
        {
          "output_type": "stream",
          "name": "stdout",
          "text": [
            "110288\n"
          ]
        }
      ]
    },
    {
      "cell_type": "markdown",
      "source": [
        "train the nmt"
      ],
      "metadata": {
        "id": "Ai_eGZKLWEPv"
      }
    },
    {
      "cell_type": "code",
      "source": [
        "# import tensorflow as tf\n",
        "\n",
        "# tf.config.run_functions_eagerly(True)\n"
      ],
      "metadata": {
        "id": "jP4ukSHHcCAg"
      },
      "execution_count": 16,
      "outputs": []
    },
    {
      "cell_type": "code",
      "source": [
        "v_en_x = en_sents2seqs('source', v_en, onehot=True, pad_type='pre')\n",
        "v_de_y = fr_sents2seqs('target', v_fr, onehot=True)\n",
        "n_epochs, bsize = 8, 250\n",
        "for ei in range(n_epochs):\n",
        "  for i in range(0,train_size,bsize):\n",
        "    en_x = en_sents2seqs('source', tr_en[i:i+bsize], onehot=True, pad_type='pre')\n",
        "    de_y = fr_sents2seqs('target', tr_fr[i:i+bsize], onehot=True)\n",
        "    nmt.train_on_batch(en_x, de_y)\n",
        "\n",
        "  res = nmt.evaluate(v_en_x, v_de_y, batch_size=valid_size, verbose=0)\n",
        "  print(\"Epoch: {} => Loss:{}, Val Acc: {}\".format(ei+1,res[0], res[1]*100.0))\n",
        "\n",
        "\n",
        "\n",
        "# Convert validation data to onehot\n",
        "# v_en_x = en_sents2seqs('source', v_en, onehot=True, reverse=True)\n",
        "# v_de_y = fr_sents2seqs('target', v_fr, onehot=True)\n",
        "\n",
        "# n_epochs, bsize = 50, 250\n",
        "# for ei in range(n_epochs):\n",
        "#   for i in range(0,train_size,bsize):\n",
        "#     # Get a single batch of inputs and outputs\n",
        "#     en_x = en_sents2seqs('source', tr_en[i:i+bsize], onehot=True, reverse=True)\n",
        "#     de_y = fr_sents2seqs('target', tr_fr[i:i+bsize], onehot=True)\n",
        "#     # Train the model on a single batch of data\n",
        "#     nmt_tf.train_on_batch(en_x, de_y)\n",
        "#   # Evaluate the trained model on the validation data\n",
        "#   res = nmt_tf.evaluate(v_en_x, v_de_y, batch_size=valid_size, verbose=0)\n",
        "#   print(\"{} => Loss:{}, Val Acc: {}\".format(ei+1,res[0], res[1]*100.0))\n",
        "\n",
        "# n_epochs, bsize = 3, 250\n",
        "# for ei in range(n_epochs):\n",
        "#   for i in range(0,train_size,bsize):\n",
        "#     # Encoder inputs, decoder inputs and outputs\n",
        "#     en_x = en_sents2seqs('source', tr_en[i:i+bsize], onehot=True, reverse=True)\n",
        "#     de_xy = fr_sents2seqs('target', tr_fr[i:i+bsize], onehot=True)\n",
        "#     # Separating decoder inputs and outputs\n",
        "#     de_x = de_xy[:,:-1,:]\n",
        "#     de_y = de_xy[:,1:,:]\n",
        "#     # Training and evaulating on a single batch\n",
        "#     nmt_tf.train_on_batch([en_x,de_x], de_y)\n",
        "#   v_en_x = en_sents2seqs('source', v_en, onehot=True, reverse=True)\n",
        "#   v_de_xy = fr_sents2seqs('target', v_fr, onehot=True)\n",
        "#   v_de_x, v_de_y = v_de_xy[:,:-1,:], v_de_xy[:,1:,:]\n",
        "#   res = nmt_tf.evaluate([v_en_x, v_de_x], v_de_y, batch_size=valid_size, verbose=0)\n",
        "#   print(\"Epoch {} => Loss:{}, Val Acc: {}\".format(ei+1,res[0], res[1]*100.0))"
      ],
      "metadata": {
        "colab": {
          "base_uri": "https://localhost:8080/"
        },
        "id": "RAbkvnB8WHK7",
        "outputId": "5a990fc4-8181-45e5-b588-6a0304f30e9b"
      },
      "execution_count": 17,
      "outputs": [
        {
          "output_type": "stream",
          "name": "stdout",
          "text": [
            "Epoch: 1 => Loss:2.0619122982025146, Val Acc: 44.98984515666962\n",
            "Epoch: 2 => Loss:1.5855821371078491, Val Acc: 55.467867851257324\n",
            "Epoch: 3 => Loss:1.337695598602295, Val Acc: 61.47516965866089\n",
            "Epoch: 4 => Loss:1.137661337852478, Val Acc: 66.75081253051758\n",
            "Epoch: 5 => Loss:0.9961738586425781, Val Acc: 70.59794664382935\n",
            "Epoch: 6 => Loss:0.8775573372840881, Val Acc: 73.66095781326294\n",
            "Epoch: 7 => Loss:0.8031511306762695, Val Acc: 76.00536942481995\n",
            "Epoch: 8 => Loss:0.7090322375297546, Val Acc: 78.8957417011261\n"
          ]
        }
      ]
    },
    {
      "cell_type": "markdown",
      "source": [
        "built model for inference"
      ],
      "metadata": {
        "id": "8dtjmYYFJ60R"
      }
    },
    {
      "cell_type": "code",
      "source": [
        "# inf_en_inputs = Input(shape=(15, en_vocab_size))\n",
        "# inf_en_gru = GRU(64, return_state=True)\n",
        "# inf_en_out, inf_en_state = inf_en_gru(inf_en_inputs)\n",
        "\n",
        "# inf_de_inputs = Input(shape=(1, fr_vocab_size))\n",
        "# inf_de_state_in = Input(shape=(64,))\n",
        "\n",
        "# inf_de_gru = GRU(64, return_state=True)\n",
        "# inf_de_out, inf_de_state_out = inf_de_gru(inf_de_inputs, initial_state=inf_de_state_in)\n",
        "# inf_de_dense = Dense(fr_vocab_size, activation='softmax')\n",
        "# inf_de_pred = inf_de_dense(inf_de_out)\n",
        "\n",
        "# encoder = Model(inputs=inf_en_inputs, outputs=inf_en_state)\n",
        "# decoder = Model(inputs=[inf_de_inputs, inf_de_state_in], outputs=[inf_de_pred, inf_de_state_out])\n",
        "\n",
        "# inf_en_gru.set_weights(en_gru.get_weights())"
      ],
      "metadata": {
        "id": "zby0ltVmIN7o"
      },
      "execution_count": 18,
      "outputs": []
    },
    {
      "cell_type": "markdown",
      "source": [
        "test"
      ],
      "metadata": {
        "id": "K0ctNx1XdGQP"
      }
    },
    {
      "cell_type": "code",
      "source": [
        "en_sent = [\"sos new jersey is sometimes quiet during autumn eos\"]\n",
        "en_seq = en_sents2seqs('source', en_sent, onehot=True, reverse=True)\n",
        "fr_pred = nmt.predict(en_seq)\n",
        "fr_seq = np.argmax(fr_pred, axis=-1)[0]\n",
        "\n",
        "print(fr_seq)\n",
        "translation = ''\n",
        "for i in fr_seq:\n",
        "  if i == 0:break\n",
        "  translation += ' ' + fr_tok.index_word[i]\n",
        "\n",
        "print(translation)\n",
        "\n",
        "# print(fr_tok.sequences_to_text(fr_seq))\n",
        "\n",
        "\n",
        "########################################33\n",
        "# def word2onehot(tokenizer, word, vocab_size):\n",
        "#     sequence = tokenizer.texts_to_sequences([word])[0]\n",
        "#     onehot = to_categorical(sequence, num_classes=vocab_size)\n",
        "#     return onehot\n",
        "\n",
        "# def probs2word(de_prob, fr_tok):\n",
        "#     \"\"\"\n",
        "#     Convert the decoder's output probabilities to the actual word with the highest probability\n",
        "#     \"\"\"\n",
        "#     # Get the index of the word with the highest probability\n",
        "#     de_idx = np.argmax(de_prob)\n",
        "#     # Convert the index to the actual word using the French tokenizer object\n",
        "#     de_word = fr_tok.index_word[de_idx]\n",
        "#     return de_word\n",
        "\n",
        "# en_sent = ['new jersey is sometimes quiet during autumn']\n",
        "# en_seq = en_sents2seqs('source', en_sent, onehot=True, reverse=True)\n",
        "\n",
        "# de_s_t = encoder.predict(en_seq)\n",
        "# de_seq = word2onehot(fr_tok, 'sos', fr_vocab_size)\n",
        "# fr_sent = ''\n",
        "# for _ in range(15):\n",
        "#   de_prob, de_s_t = decoder.predict([de_seq[np.newaxis,:],de_s_t])\n",
        "#   de_w = probs2word(de_prob, fr_tok)\n",
        "#   de_seq = word2onehot(fr_tok, de_w, fr_vocab_size)\n",
        "#   if de_w == 'eos': break\n",
        "#   fr_sent += de_w + ' '\n",
        "\n",
        "# print(fr_sent)\n",
        "##########################################\n",
        "\n",
        "# # Convert the output indices to text\n",
        "# output_tokens = fr_tok.sequences_to_texts(fr_seq)\n",
        "# output_text = ' '.join(output_tokens)\n",
        "# print(output_text)\n",
        "\n",
        "# pad_seq = sents2seqs('source',en_sent, en_vocab_size, reverse=True)\n",
        "# print(pad_seq)\n",
        "# fr_sentence = ' '.join([all_words[i] for i in fr_seq if i != 0])"
      ],
      "metadata": {
        "colab": {
          "base_uri": "https://localhost:8080/"
        },
        "id": "-8RZeKypdIne",
        "outputId": "3e6c0328-441f-4bbd-c947-413f151b77c9"
      },
      "execution_count": 19,
      "outputs": [
        {
          "output_type": "stream",
          "name": "stdout",
          "text": [
            "1/1 [==============================] - 1s 651ms/step\n",
            "[ 3 65  2 24 18 45  9  6  2 11  5 45  4  0  0]\n",
            " sos californie est chaud au printemps et il est parfois en printemps eos\n"
          ]
        }
      ]
    },
    {
      "cell_type": "code",
      "source": [
        "import numpy as np\n",
        "from tensorflow.keras.models import load_model\n",
        "from tensorflow.keras.preprocessing.sequence import pad_sequences\n",
        "from tensorflow.keras.utils import to_categorical\n",
        "from tensorflow.keras.preprocessing.text import Tokenizer\n",
        "\n",
        "print(\"Load data\")\n",
        "\n",
        "with open(\"./drive/MyDrive/entofr_dataset/en.txt\") as file:\n",
        "    en_data = [\"sos \"+line.rstrip()+\" eos\" for line in file]\n",
        "\n",
        "with open(\"./drive/MyDrive/entofr_dataset/fr.txt\") as file:\n",
        "    fr_data = [\"sos \" + line.rstrip() +\" eos\" for line in file]\n",
        "\n",
        "\n",
        "print(\"Tockenization started\")\n",
        "\n",
        "# Define a Keras Tokenizer\n",
        "en_tok = Tokenizer(num_words=230, oov_token='UNK')\n",
        "en_tok.fit_on_texts(en_data)\n",
        "fr_tok= Tokenizer(num_words=358, oov_token='UNK')\n",
        "fr_tok.fit_on_texts(fr_data)\n",
        "\n",
        "print(\"Tockenization compeleted\")\n",
        "\n",
        "\n",
        "def en_sents2seqs(input_type, sentences, onehot=False, pad_type='post', reverse=False):\n",
        "    encoded_text = en_tok.texts_to_sequences(sentences)\n",
        "    preproc_text = pad_sequences(encoded_text, padding=pad_type, truncating='post', maxlen=15)\n",
        "    if reverse:\n",
        "      # Reverse the text using numpy axis reversing\n",
        "      preproc_text = preproc_text[:,::-1]\n",
        "    if onehot:\n",
        "        preproc_text = to_categorical(preproc_text, num_classes=230)\n",
        "    return preproc_text\n",
        "\n",
        "\n",
        "\n",
        "en_sent = [\"sos new jersey is sometimes quiet during autumn eos\"]\n",
        "en_seq = en_sents2seqs('source', en_sent, onehot=True, reverse=False)\n",
        "print(en_seq)\n",
        "\n",
        "nmt = load_model('./drive/MyDrive/Colab Files/NLP_Model')\n",
        "\n",
        "fr_pred = nmt.predict(en_seq)\n",
        "fr_seq = np.argmax(fr_pred, axis=-1)[0]\n",
        "\n",
        "print(fr_seq)\n",
        "translation = ''\n",
        "for i in fr_seq:\n",
        "  if i == 0:break\n",
        "  translation += ' ' + fr_tok.index_word[i]\n",
        "\n",
        "print(translation)"
      ],
      "metadata": {
        "colab": {
          "base_uri": "https://localhost:8080/"
        },
        "id": "g4KEqmv5zQeV",
        "outputId": "bb9079ad-d562-461a-dec9-c8e75c270c96"
      },
      "execution_count": 20,
      "outputs": [
        {
          "output_type": "stream",
          "name": "stdout",
          "text": [
            "Load data\n",
            "Tockenization started\n",
            "Tockenization compeleted\n",
            "[[[0. 0. 0. ... 0. 0. 0.]\n",
            "  [0. 0. 0. ... 0. 0. 0.]\n",
            "  [0. 0. 0. ... 0. 0. 0.]\n",
            "  ...\n",
            "  [1. 0. 0. ... 0. 0. 0.]\n",
            "  [1. 0. 0. ... 0. 0. 0.]\n",
            "  [1. 0. 0. ... 0. 0. 0.]]]\n",
            "1/1 [==============================] - 1s 560ms/step\n",
            "[ 3 38 37  2 11 70 40 14 27  8  6  2 66  5 48]\n",
            " sos new jersey est parfois calme pendant l' automne mais il est sec en mars\n"
          ]
        }
      ]
    }
  ]
}